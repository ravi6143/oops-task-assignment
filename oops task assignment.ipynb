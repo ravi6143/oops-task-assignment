{
 "cells": [
  {
   "cell_type": "code",
   "execution_count": null,
   "id": "e27ab6b0-3565-49e3-8060-1edc839450eb",
   "metadata": {},
   "outputs": [],
   "source": [
    "# question - 1\n",
    "# ans \n"
   ]
  },
  {
   "cell_type": "code",
   "execution_count": 55,
   "id": "2b6c8b03-2c44-4b61-9f59-18679bcd10f5",
   "metadata": {},
   "outputs": [],
   "source": [
    "class Vehicle:\n",
    "    def __init__(self , name , maximum_speed , average_of_vehicle):\n",
    "        self.name = name\n",
    "        self.maximum_speed = maximum_speed\n",
    "        self.average_of_vehicle = average_of_vehicle\n",
    "        \n",
    "    def vehicle_details(self):\n",
    "        return self.name , self.maximum_speed, self.average_of_vehicle\n"
   ]
  },
  {
   "cell_type": "code",
   "execution_count": 56,
   "id": "bd1f44f8-724e-434b-8b7c-2aeacd103f46",
   "metadata": {},
   "outputs": [],
   "source": [
    "my_vehicle = vehicle('car' , 220 , 23)"
   ]
  },
  {
   "cell_type": "code",
   "execution_count": 57,
   "id": "95d08867-6e8f-4ae6-a644-3e32499c142e",
   "metadata": {},
   "outputs": [
    {
     "data": {
      "text/plain": [
       "('car', 220, 23)"
      ]
     },
     "execution_count": 57,
     "metadata": {},
     "output_type": "execute_result"
    }
   ],
   "source": [
    "my_vehicle.vehicle_details()"
   ]
  },
  {
   "cell_type": "code",
   "execution_count": 58,
   "id": "f8641f09-6b47-4148-8568-6b930860cdff",
   "metadata": {},
   "outputs": [],
   "source": [
    "# Question - 2\n",
    "#ans - "
   ]
  },
  {
   "cell_type": "code",
   "execution_count": 59,
   "id": "7812092a-0af0-45e1-9551-a37f6d092b40",
   "metadata": {},
   "outputs": [],
   "source": [
    "class Car(Vehicle):\n",
    "    def seating_capacity(self, capacity):\n",
    "        \n",
    "        return self.name , capacity"
   ]
  },
  {
   "cell_type": "code",
   "execution_count": 62,
   "id": "157a9562-4383-4499-ab2d-048f9bd5e763",
   "metadata": {},
   "outputs": [],
   "source": [
    "obj_car = Car(\"Car\" , 220 , 23)"
   ]
  },
  {
   "cell_type": "code",
   "execution_count": 63,
   "id": "df574ff6-c0ea-4431-937e-bb86cf4877b5",
   "metadata": {},
   "outputs": [
    {
     "name": "stdout",
     "output_type": "stream",
     "text": [
      "('Car', 5)\n"
     ]
    }
   ],
   "source": [
    "print(obj_car.seating_capacity(5))"
   ]
  },
  {
   "cell_type": "code",
   "execution_count": null,
   "id": "c8941637-fb2b-4954-b02a-f33e4bd98445",
   "metadata": {},
   "outputs": [],
   "source": []
  },
  {
   "cell_type": "code",
   "execution_count": null,
   "id": "1b18ec72-c133-4763-a9cf-e252770e410a",
   "metadata": {},
   "outputs": [],
   "source": []
  },
  {
   "cell_type": "code",
   "execution_count": null,
   "id": "a0fb5bd6-bc9b-411a-9365-d5a3e33634ef",
   "metadata": {},
   "outputs": [],
   "source": [
    "# Question -3\n",
    "#ans - "
   ]
  },
  {
   "cell_type": "code",
   "execution_count": 64,
   "id": "4affd237-933c-4248-99ad-13584ad95704",
   "metadata": {},
   "outputs": [
    {
     "data": {
      "text/plain": [
       "' when a child class inherits from more than one parent classes , its called multiple inheritance'"
      ]
     },
     "execution_count": 64,
     "metadata": {},
     "output_type": "execute_result"
    }
   ],
   "source": [
    "\"\"\" when a child class inherits from more than one parent classes , its called multiple inheritance\"\"\""
   ]
  },
  {
   "cell_type": "code",
   "execution_count": 66,
   "id": "113e5acb-ff82-4e01-9da2-aecd6ca300e1",
   "metadata": {},
   "outputs": [],
   "source": [
    "class shar1:\n",
    "    def meth1(self):\n",
    "        return \"it is from class shar1\""
   ]
  },
  {
   "cell_type": "code",
   "execution_count": 68,
   "id": "de1d52d2-d675-46f6-a8a8-4288c659efda",
   "metadata": {},
   "outputs": [],
   "source": [
    "class shar2 :\n",
    "    def meth2(self):\n",
    "        return 'it is from class shar2'"
   ]
  },
  {
   "cell_type": "code",
   "execution_count": 69,
   "id": "2faecaf5-7ec0-48dc-8b77-a64416685362",
   "metadata": {},
   "outputs": [],
   "source": [
    "class shar3:\n",
    "    def meth3(self):\n",
    "        return 'it is from class shar3'"
   ]
  },
  {
   "cell_type": "code",
   "execution_count": 70,
   "id": "bb351b70-bd00-4047-aac5-7d4a98b037b2",
   "metadata": {},
   "outputs": [],
   "source": [
    "class shar4(shar1, shar2 , shar3):\n",
    "    pass"
   ]
  },
  {
   "cell_type": "code",
   "execution_count": 71,
   "id": "9573545e-8b57-46ff-ba76-54220050e0fe",
   "metadata": {},
   "outputs": [],
   "source": [
    "obj_shar4 = shar4()"
   ]
  },
  {
   "cell_type": "code",
   "execution_count": 73,
   "id": "92564533-7692-44c5-a873-420e98ae58f6",
   "metadata": {},
   "outputs": [
    {
     "data": {
      "text/plain": [
       "'is is from class shar1'"
      ]
     },
     "execution_count": 73,
     "metadata": {},
     "output_type": "execute_result"
    }
   ],
   "source": [
    "obj_shar4.meth1()"
   ]
  },
  {
   "cell_type": "code",
   "execution_count": 74,
   "id": "d3694f57-adbe-4e2e-9adf-208488adeef3",
   "metadata": {},
   "outputs": [
    {
     "data": {
      "text/plain": [
       "'it is from class shar2'"
      ]
     },
     "execution_count": 74,
     "metadata": {},
     "output_type": "execute_result"
    }
   ],
   "source": [
    "obj_shar4.meth2()"
   ]
  },
  {
   "cell_type": "code",
   "execution_count": 75,
   "id": "b99b6249-9494-45fd-b2ef-95d1d6185e39",
   "metadata": {},
   "outputs": [
    {
     "data": {
      "text/plain": [
       "'it is from class shar3'"
      ]
     },
     "execution_count": 75,
     "metadata": {},
     "output_type": "execute_result"
    }
   ],
   "source": [
    "obj_shar4.meth3()"
   ]
  },
  {
   "cell_type": "code",
   "execution_count": 76,
   "id": "9f4286d0-5cbe-415d-9564-10a65a4f3b8b",
   "metadata": {},
   "outputs": [],
   "source": [
    "# in above code , class shar4 is derived by inheritance of three parent classes"
   ]
  },
  {
   "cell_type": "code",
   "execution_count": null,
   "id": "bfb7f9a3-7d9c-4921-ac86-81ca3a0e52be",
   "metadata": {},
   "outputs": [],
   "source": []
  },
  {
   "cell_type": "code",
   "execution_count": null,
   "id": "f0a0ddfd-0f44-4a35-82e0-968568f43786",
   "metadata": {},
   "outputs": [],
   "source": []
  },
  {
   "cell_type": "code",
   "execution_count": null,
   "id": "96f28487-060a-4e82-8f7c-118bd8c4b2a4",
   "metadata": {},
   "outputs": [],
   "source": []
  },
  {
   "cell_type": "code",
   "execution_count": null,
   "id": "6322f0e6-655b-4cd8-b290-c5fe42e40cdf",
   "metadata": {},
   "outputs": [],
   "source": [
    "# question - 4 \n",
    "# ans_\n"
   ]
  },
  {
   "cell_type": "code",
   "execution_count": 77,
   "id": "cffa90aa-3fb0-4f71-9d1a-09c1d0db6b53",
   "metadata": {},
   "outputs": [
    {
     "data": {
      "text/plain": [
       "' getter and setter are methods in python used to access or to modify the values of variables of a class\\nget is used to retrive the value of a variable of instance of a class\\nset is used to modify of to acces the value of a variable'"
      ]
     },
     "execution_count": 77,
     "metadata": {},
     "output_type": "execute_result"
    }
   ],
   "source": [
    "\"\"\" getter and setter are methods in python used to access or to modify the values of variables of a class\n",
    "get is used to retrive the value of a variable of instance of a class\n",
    "set is used to modify of to acces the value of a variable\"\"\""
   ]
  },
  {
   "cell_type": "code",
   "execution_count": 99,
   "id": "670579d5-2caf-440a-a787-79aed8982e38",
   "metadata": {},
   "outputs": [],
   "source": [
    "class Channel:\n",
    "    def __init__(self, name , followers, posts):\n",
    "        self._name = name\n",
    "        self._followers = followers\n",
    "        self._posts = posts\n",
    "        \n",
    "    def get_name(self):\n",
    "        return self._name\n",
    "    def get_followers(self):\n",
    "        return self._followers\n",
    "    \n",
    "    def set_name(self, new_name):\n",
    "        self._name = new_name\n",
    "    \n",
    "obj_channel = Channel('Bob' , 2345 , 23)"
   ]
  },
  {
   "cell_type": "code",
   "execution_count": 95,
   "id": "057c9a28-e600-4db4-9aeb-1feaf1416a5a",
   "metadata": {},
   "outputs": [
    {
     "data": {
      "text/plain": [
       "'Bob'"
      ]
     },
     "execution_count": 95,
     "metadata": {},
     "output_type": "execute_result"
    }
   ],
   "source": [
    "obj_channel.get_name()"
   ]
  },
  {
   "cell_type": "code",
   "execution_count": 96,
   "id": "c76541e2-5146-4135-9998-7061a223af5d",
   "metadata": {},
   "outputs": [],
   "source": [
    "obj_channel.set_name(\"Danny\")"
   ]
  },
  {
   "cell_type": "code",
   "execution_count": 97,
   "id": "10c91fec-c2ad-4133-841f-3acb2c55548d",
   "metadata": {},
   "outputs": [
    {
     "data": {
      "text/plain": [
       "'Danny'"
      ]
     },
     "execution_count": 97,
     "metadata": {},
     "output_type": "execute_result"
    }
   ],
   "source": [
    "obj_channel.get_name()"
   ]
  },
  {
   "cell_type": "code",
   "execution_count": 100,
   "id": "39d2fd74-d133-4d64-9efe-b0e282b4ef28",
   "metadata": {},
   "outputs": [
    {
     "data": {
      "text/plain": [
       "2345"
      ]
     },
     "execution_count": 100,
     "metadata": {},
     "output_type": "execute_result"
    }
   ],
   "source": [
    "obj_channel.get_followers()"
   ]
  },
  {
   "cell_type": "code",
   "execution_count": null,
   "id": "13ce216b-1bfd-4caa-8e86-36f0e7ed6978",
   "metadata": {},
   "outputs": [],
   "source": []
  },
  {
   "cell_type": "code",
   "execution_count": null,
   "id": "c12083eb-d17c-495f-8a0d-d79d3813010b",
   "metadata": {},
   "outputs": [],
   "source": []
  },
  {
   "cell_type": "code",
   "execution_count": null,
   "id": "2f782f0d-90a0-4414-b2e8-0a78ebd191a3",
   "metadata": {},
   "outputs": [],
   "source": [
    "# Question - 5\n",
    "# ans "
   ]
  },
  {
   "cell_type": "code",
   "execution_count": 1,
   "id": "ee0161bc-d944-4f25-aa08-be75c8767f98",
   "metadata": {},
   "outputs": [
    {
     "data": {
      "text/plain": [
       "' method overriding is a function of oop language which allows a child class to implementaion of specific\\ndata which is defined already in parent class'"
      ]
     },
     "execution_count": 1,
     "metadata": {},
     "output_type": "execute_result"
    }
   ],
   "source": [
    "\"\"\" method overriding is a function of oop language which allows a child class to implementaion of specific\n",
    "data which is defined already in parent class\"\"\""
   ]
  },
  {
   "cell_type": "code",
   "execution_count": 3,
   "id": "9851cf7f-0b43-4399-9178-fc067d131040",
   "metadata": {},
   "outputs": [],
   "source": [
    "class clg:\n",
    "    def student_details(self):\n",
    "        pass\n",
    "    \n",
    "    def branch(self):\n",
    "        pass\n",
    "    \n",
    "    def semester(self):\n",
    "        pass"
   ]
  },
  {
   "cell_type": "code",
   "execution_count": 4,
   "id": "dd2c4fd0-1b40-4e16-a8ac-4884b4ffd2d2",
   "metadata": {},
   "outputs": [],
   "source": [
    "class department(clg):\n",
    "    def student_details(self):\n",
    "        return 'it gives naem of student'\n",
    "    def branch(self):\n",
    "        return 'it tells the branch of student'"
   ]
  },
  {
   "cell_type": "code",
   "execution_count": 5,
   "id": "ae751e6e-9704-4d19-a3b2-4521011ec88c",
   "metadata": {},
   "outputs": [],
   "source": [
    "obj_department = department()"
   ]
  },
  {
   "cell_type": "code",
   "execution_count": 6,
   "id": "76edd256-73c2-4954-9180-f3b649a57a86",
   "metadata": {},
   "outputs": [
    {
     "data": {
      "text/plain": [
       "'it gives naem of student'"
      ]
     },
     "execution_count": 6,
     "metadata": {},
     "output_type": "execute_result"
    }
   ],
   "source": [
    "obj_department.student_details()"
   ]
  },
  {
   "cell_type": "code",
   "execution_count": 7,
   "id": "62dc2290-df43-4447-97b8-6f4773d9f529",
   "metadata": {},
   "outputs": [],
   "source": [
    "obj_department.semester()"
   ]
  },
  {
   "cell_type": "code",
   "execution_count": 8,
   "id": "29ae7d55-1faa-4156-8486-cf99a96fe8db",
   "metadata": {},
   "outputs": [
    {
     "data": {
      "text/plain": [
       "'it tells the branch of student'"
      ]
     },
     "execution_count": 8,
     "metadata": {},
     "output_type": "execute_result"
    }
   ],
   "source": [
    "obj_department.branch()"
   ]
  },
  {
   "cell_type": "code",
   "execution_count": null,
   "id": "de558ffd-9fd9-401c-8a51-3ce710e8375e",
   "metadata": {},
   "outputs": [],
   "source": []
  }
 ],
 "metadata": {
  "kernelspec": {
   "display_name": "Python 3 (ipykernel)",
   "language": "python",
   "name": "python3"
  },
  "language_info": {
   "codemirror_mode": {
    "name": "ipython",
    "version": 3
   },
   "file_extension": ".py",
   "mimetype": "text/x-python",
   "name": "python",
   "nbconvert_exporter": "python",
   "pygments_lexer": "ipython3",
   "version": "3.10.8"
  }
 },
 "nbformat": 4,
 "nbformat_minor": 5
}
